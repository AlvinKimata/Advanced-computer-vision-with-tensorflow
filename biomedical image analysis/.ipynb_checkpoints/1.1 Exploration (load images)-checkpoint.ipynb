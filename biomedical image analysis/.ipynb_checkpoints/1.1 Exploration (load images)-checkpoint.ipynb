{
 "cells": [
  {
   "cell_type": "markdown",
   "id": "5401f41d-7d60-4fab-bbda-6f9df7a3fa63",
   "metadata": {},
   "source": [
    "### This notebook demonstrates how to load, build and navigate `N-dimnsional` images using a CT image of the human chest."
   ]
  },
  {
   "cell_type": "code",
   "execution_count": 1,
   "id": "f36ac6bb-012f-4da0-bead-62e6b4a6404b",
   "metadata": {},
   "outputs": [
    {
     "name": "stdout",
     "output_type": "stream",
     "text": [
      "Requirement already satisfied: imageio in /home/debonair/anaconda3/lib/python3.9/site-packages (2.9.0)\n",
      "Requirement already satisfied: pillow in /home/debonair/anaconda3/lib/python3.9/site-packages (from imageio) (9.0.1)\n",
      "Requirement already satisfied: numpy in /home/debonair/anaconda3/lib/python3.9/site-packages (from imageio) (1.21.5)\n"
     ]
    }
   ],
   "source": [
    "!pip install imageio"
   ]
  },
  {
   "cell_type": "code",
   "execution_count": 2,
   "id": "d745d27b-8520-45ff-9013-a207d01d67c0",
   "metadata": {},
   "outputs": [],
   "source": [
    "import imageio"
   ]
  },
  {
   "cell_type": "code",
   "execution_count": 3,
   "id": "4f227020-0214-4070-bd97-40dce2c7c77b",
   "metadata": {},
   "outputs": [],
   "source": [
    "#Load the chest dcm image.\n",
    "im = imageio.imread('../inputs/TCIA Chest CT/chest-221.dcm')"
   ]
  },
  {
   "cell_type": "code",
   "execution_count": 4,
   "id": "6b8ee085-3de2-453e-bd43-0e9908537ecf",
   "metadata": {},
   "outputs": [
    {
     "name": "stdout",
     "output_type": "stream",
     "text": [
      "Image type: <class 'imageio.core.util.Array'>\n"
     ]
    }
   ],
   "source": [
    "#Print image attributes.\n",
    "print('Image type:', type(im))"
   ]
  },
  {
   "cell_type": "code",
   "execution_count": 5,
   "id": "535ac4c8-1b92-46e1-903b-74b3de9ca1f9",
   "metadata": {},
   "outputs": [
    {
     "name": "stdout",
     "output_type": "stream",
     "text": [
      "Shape of the array: (512, 512)\n"
     ]
    }
   ],
   "source": [
    "print('Shape of the array:', im.shape)"
   ]
  },
  {
   "cell_type": "code",
   "execution_count": null,
   "id": "26a7ca2a-5196-4cd2-a036-987821e135e3",
   "metadata": {},
   "outputs": [],
   "source": []
  }
 ],
 "metadata": {
  "kernelspec": {
   "display_name": "Python 3 (ipykernel)",
   "language": "python",
   "name": "python3"
  },
  "language_info": {
   "codemirror_mode": {
    "name": "ipython",
    "version": 3
   },
   "file_extension": ".py",
   "mimetype": "text/x-python",
   "name": "python",
   "nbconvert_exporter": "python",
   "pygments_lexer": "ipython3",
   "version": "3.9.12"
  }
 },
 "nbformat": 4,
 "nbformat_minor": 5
}
