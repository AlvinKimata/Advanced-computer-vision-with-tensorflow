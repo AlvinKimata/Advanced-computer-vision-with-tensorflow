{
 "cells": [
  {
   "cell_type": "code",
   "execution_count": 1,
   "id": "82b731a3-0408-4db3-8ad5-8d9990614e9f",
   "metadata": {},
   "outputs": [],
   "source": [
    "import imageio\n",
    "import numpy as np"
   ]
  },
  {
   "cell_type": "code",
   "execution_count": 2,
   "id": "cce4ee32-1e85-44e9-b886-dc17db0cb797",
   "metadata": {},
   "outputs": [],
   "source": [
    "#Read in the 2D images.\n",
    "im1 = imageio.imread('../inputs/TCIA Chest CT/chest-220.dcm')\n",
    "im2 = imageio.imread('../inputs/TCIA Chest CT/chest-221.dcm')\n",
    "im3 = imageio.imread('../inputs/TCIA Chest CT/chest-222.dcm')"
   ]
  },
  {
   "cell_type": "code",
   "execution_count": 3,
   "id": "a9a055da-a60b-421e-9c65-20fc44f96cfc",
   "metadata": {},
   "outputs": [
    {
     "name": "stdout",
     "output_type": "stream",
     "text": [
      "Volume dimensions: (3, 512, 512)\n"
     ]
    }
   ],
   "source": [
    "#Stack images into a volume.\n",
    "vol = np.stack([im1, im2, im3])\n",
    "print('Volume dimensions:', vol.shape)"
   ]
  },
  {
   "cell_type": "markdown",
   "id": "c32c397e-100d-4b92-9607-acddd92733b4",
   "metadata": {},
   "source": [
    "### Load the 'tcia-chest-ct' directory."
   ]
  },
  {
   "cell_type": "code",
   "execution_count": 5,
   "id": "dbdcf856-ca91-4117-8fa7-284bf074eb8b",
   "metadata": {},
   "outputs": [
    {
     "name": "stdout",
     "output_type": "stream",
     "text": [
      "Reading DICOM (examining files): 1/5 files (20.0%5/5 files (100.0%)\n",
      "  Found 1 correct series.\n",
      "Reading DICOM (loading data): 5/5  (100.0%)\n",
      "Available metadata: odict_keys(['TransferSyntaxUID', 'SOPClassUID', 'SOPInstanceUID', 'StudyDate', 'SeriesDate', 'ContentDate', 'StudyTime', 'SeriesTime', 'ContentTime', 'Modality', 'Manufacturer', 'StudyDescription', 'SeriesDescription', 'PatientName', 'PatientID', 'PatientBirthDate', 'PatientSex', 'PatientWeight', 'StudyInstanceUID', 'SeriesInstanceUID', 'SeriesNumber', 'AcquisitionNumber', 'InstanceNumber', 'ImagePositionPatient', 'ImageOrientationPatient', 'SamplesPerPixel', 'Rows', 'Columns', 'PixelSpacing', 'BitsAllocated', 'BitsStored', 'HighBit', 'PixelRepresentation', 'RescaleIntercept', 'RescaleSlope', 'PixelData', 'shape', 'sampling'])\n",
      "Shape of image array: (5, 512, 512)\n"
     ]
    }
   ],
   "source": [
    "vol = imageio.volread('../inputs/TCIA Chest CT')\n",
    "\n",
    "#Print image attributes.\n",
    "print('Available metadata:', vol.meta.keys())\n",
    "print('Shape of image array:', vol.shape)"
   ]
  },
  {
   "cell_type": "markdown",
   "id": "e25b02fe-f957-4d02-81ec-627b196b4f63",
   "metadata": {},
   "source": [
    "## Print the field of view.\n",
    "***\n",
    "### The amount of physical space  covered by an image is its `field of view.` It is calculated from 2 properties:\n",
    "#### 1. `Array shape`: The number of data elements on each axis.\n",
    "#### 2. `Sampling resolution`: The amount of physical space covered by each pixel."
   ]
  },
  {
   "cell_type": "code",
   "execution_count": 10,
   "id": "e0408011-c699-4d3d-8365-a0de72e414f3",
   "metadata": {},
   "outputs": [
    {
     "data": {
      "text/plain": [
       "(16.34999999999998, 499.999744, 499.999744)"
      ]
     },
     "execution_count": 10,
     "metadata": {},
     "output_type": "execute_result"
    }
   ],
   "source": [
    "#Multiply the array shape and samplling resolution along each axis.\n",
    "vol.meta['sampling'] \n",
    "\n",
    "#Get the number of pixels along each axis.\n",
    "n0, n1, n2 = vol.shape\n",
    "\n",
    "#Get the sapce occupied by each pixel.\n",
    "d0, d1, d2 = vol.meta['sampling']\n",
    "\n",
    "#Multiply each of these together.\n",
    "n0 * d0, n1 * d1, n2 * d2"
   ]
  },
  {
   "cell_type": "code",
   "execution_count": null,
   "id": "8353a2a6-b4c8-49a3-8f39-d416cc3227e5",
   "metadata": {},
   "outputs": [],
   "source": []
  }
 ],
 "metadata": {
  "kernelspec": {
   "display_name": "Python 3 (ipykernel)",
   "language": "python",
   "name": "python3"
  },
  "language_info": {
   "codemirror_mode": {
    "name": "ipython",
    "version": 3
   },
   "file_extension": ".py",
   "mimetype": "text/x-python",
   "name": "python",
   "nbconvert_exporter": "python",
   "pygments_lexer": "ipython3",
   "version": "3.9.12"
  }
 },
 "nbformat": 4,
 "nbformat_minor": 5
}
